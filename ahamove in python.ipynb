{
 "cells": [
  {
   "cell_type": "code",
   "execution_count": 78,
   "id": "520d0430",
   "metadata": {
    "scrolled": true
   },
   "outputs": [
    {
     "data": {
      "text/html": [
       "<div>\n",
       "<style scoped>\n",
       "    .dataframe tbody tr th:only-of-type {\n",
       "        vertical-align: middle;\n",
       "    }\n",
       "\n",
       "    .dataframe tbody tr th {\n",
       "        vertical-align: top;\n",
       "    }\n",
       "\n",
       "    .dataframe thead th {\n",
       "        text-align: right;\n",
       "    }\n",
       "</style>\n",
       "<table border=\"1\" class=\"dataframe\">\n",
       "  <thead>\n",
       "    <tr style=\"text-align: right;\">\n",
       "      <th></th>\n",
       "      <th>user_id</th>\n",
       "      <th>category</th>\n",
       "      <th>favorite_service</th>\n",
       "      <th>create_time</th>\n",
       "      <th>first_time</th>\n",
       "      <th>recency</th>\n",
       "      <th>frequency</th>\n",
       "      <th>stoppoint</th>\n",
       "      <th>gsv</th>\n",
       "      <th>discount</th>\n",
       "      <th>discount_using</th>\n",
       "      <th>gmv</th>\n",
       "    </tr>\n",
       "  </thead>\n",
       "  <tbody>\n",
       "    <tr>\n",
       "      <th>0</th>\n",
       "      <td>1.0</td>\n",
       "      <td>FASHION</td>\n",
       "      <td>BIKE</td>\n",
       "      <td>2015-06-11</td>\n",
       "      <td>2022-04-04</td>\n",
       "      <td>0.0</td>\n",
       "      <td>18.0</td>\n",
       "      <td>25.0</td>\n",
       "      <td>1215000.0</td>\n",
       "      <td>52000.0</td>\n",
       "      <td>0.160000</td>\n",
       "      <td>0.0</td>\n",
       "    </tr>\n",
       "    <tr>\n",
       "      <th>1</th>\n",
       "      <td>2.0</td>\n",
       "      <td>INDIVIDUAL NEEDS</td>\n",
       "      <td>BIKE</td>\n",
       "      <td>2015-06-23</td>\n",
       "      <td>2022-03-20</td>\n",
       "      <td>4.0</td>\n",
       "      <td>23.0</td>\n",
       "      <td>31.0</td>\n",
       "      <td>1395000.0</td>\n",
       "      <td>25000.0</td>\n",
       "      <td>0.096774</td>\n",
       "      <td>0.0</td>\n",
       "    </tr>\n",
       "    <tr>\n",
       "      <th>2</th>\n",
       "      <td>3.0</td>\n",
       "      <td>FASHION</td>\n",
       "      <td>BIKE</td>\n",
       "      <td>2015-07-02</td>\n",
       "      <td>2022-03-14</td>\n",
       "      <td>0.0</td>\n",
       "      <td>59.0</td>\n",
       "      <td>192.0</td>\n",
       "      <td>12311000.0</td>\n",
       "      <td>395000.0</td>\n",
       "      <td>0.145833</td>\n",
       "      <td>0.0</td>\n",
       "    </tr>\n",
       "    <tr>\n",
       "      <th>3</th>\n",
       "      <td>4.0</td>\n",
       "      <td>INDIVIDUAL NEEDS</td>\n",
       "      <td>BIKE</td>\n",
       "      <td>2015-08-10</td>\n",
       "      <td>2022-02-20</td>\n",
       "      <td>99.0</td>\n",
       "      <td>1.0</td>\n",
       "      <td>1.0</td>\n",
       "      <td>64000.0</td>\n",
       "      <td>10000.0</td>\n",
       "      <td>1.000000</td>\n",
       "      <td>0.0</td>\n",
       "    </tr>\n",
       "    <tr>\n",
       "      <th>4</th>\n",
       "      <td>5.0</td>\n",
       "      <td>SPORT</td>\n",
       "      <td>BIKE</td>\n",
       "      <td>2015-08-10</td>\n",
       "      <td>2022-05-05</td>\n",
       "      <td>19.0</td>\n",
       "      <td>2.0</td>\n",
       "      <td>2.0</td>\n",
       "      <td>136000.0</td>\n",
       "      <td>1000.0</td>\n",
       "      <td>0.000000</td>\n",
       "      <td>0.0</td>\n",
       "    </tr>\n",
       "  </tbody>\n",
       "</table>\n",
       "</div>"
      ],
      "text/plain": [
       "   user_id          category favorite_service create_time  first_time  \\\n",
       "0      1.0           FASHION             BIKE  2015-06-11  2022-04-04   \n",
       "1      2.0  INDIVIDUAL NEEDS             BIKE  2015-06-23  2022-03-20   \n",
       "2      3.0           FASHION             BIKE  2015-07-02  2022-03-14   \n",
       "3      4.0  INDIVIDUAL NEEDS             BIKE  2015-08-10  2022-02-20   \n",
       "4      5.0             SPORT             BIKE  2015-08-10  2022-05-05   \n",
       "\n",
       "   recency  frequency  stoppoint         gsv  discount  discount_using  gmv  \n",
       "0      0.0       18.0       25.0   1215000.0   52000.0        0.160000  0.0  \n",
       "1      4.0       23.0       31.0   1395000.0   25000.0        0.096774  0.0  \n",
       "2      0.0       59.0      192.0  12311000.0  395000.0        0.145833  0.0  \n",
       "3     99.0        1.0        1.0     64000.0   10000.0        1.000000  0.0  \n",
       "4     19.0        2.0        2.0    136000.0    1000.0        0.000000  0.0  "
      ]
     },
     "execution_count": 78,
     "metadata": {},
     "output_type": "execute_result"
    }
   ],
   "source": [
    "# Import Packages and Load Data\n",
    "\n",
    "import pandas as pd\n",
    "import matplotlib.pyplot as plt\n",
    "import numpy as np\n",
    "df = pd.read_excel('Test_BDS.xlsx',sheet_name='Raw data')\n",
    "df.head()"
   ]
  },
  {
   "cell_type": "code",
   "execution_count": 110,
   "id": "f57c89e5",
   "metadata": {},
   "outputs": [],
   "source": [
    "# Clean data \n",
    "df = df.dropna(how='any') #drop NaN values"
   ]
  },
  {
   "cell_type": "code",
   "execution_count": 59,
   "id": "c5473ead",
   "metadata": {},
   "outputs": [],
   "source": [
    "df['gsv'] = pd.to_numeric(df['gsv'], downcast='integer')\n",
    "df['recency'] = pd.to_numeric(df['recency'], downcast='integer')\n",
    "df['stoppoint'] = pd.to_numeric(df['stoppoint'], downcast='integer')\n",
    "df['discount'] = pd.to_numeric(df['discount'], downcast='integer')"
   ]
  },
  {
   "cell_type": "code",
   "execution_count": 60,
   "id": "8310abad",
   "metadata": {
    "scrolled": true
   },
   "outputs": [
    {
     "data": {
      "text/html": [
       "<div>\n",
       "<style scoped>\n",
       "    .dataframe tbody tr th:only-of-type {\n",
       "        vertical-align: middle;\n",
       "    }\n",
       "\n",
       "    .dataframe tbody tr th {\n",
       "        vertical-align: top;\n",
       "    }\n",
       "\n",
       "    .dataframe thead th {\n",
       "        text-align: right;\n",
       "    }\n",
       "</style>\n",
       "<table border=\"1\" class=\"dataframe\">\n",
       "  <thead>\n",
       "    <tr style=\"text-align: right;\">\n",
       "      <th></th>\n",
       "      <th>user_id</th>\n",
       "      <th>category</th>\n",
       "      <th>favorite_service</th>\n",
       "      <th>create_time</th>\n",
       "      <th>first_time</th>\n",
       "      <th>recency</th>\n",
       "      <th>frequency</th>\n",
       "      <th>stoppoint</th>\n",
       "      <th>gsv</th>\n",
       "      <th>discount</th>\n",
       "      <th>discount_using</th>\n",
       "      <th>gmv</th>\n",
       "    </tr>\n",
       "  </thead>\n",
       "  <tbody>\n",
       "    <tr>\n",
       "      <th>0</th>\n",
       "      <td>1.0</td>\n",
       "      <td>FASHION</td>\n",
       "      <td>BIKE</td>\n",
       "      <td>2015-06-11</td>\n",
       "      <td>2022-04-04</td>\n",
       "      <td>0</td>\n",
       "      <td>18.0</td>\n",
       "      <td>25</td>\n",
       "      <td>1215000</td>\n",
       "      <td>52000</td>\n",
       "      <td>0.160000</td>\n",
       "      <td>0.0</td>\n",
       "    </tr>\n",
       "    <tr>\n",
       "      <th>1</th>\n",
       "      <td>2.0</td>\n",
       "      <td>INDIVIDUAL NEEDS</td>\n",
       "      <td>BIKE</td>\n",
       "      <td>2015-06-23</td>\n",
       "      <td>2022-03-20</td>\n",
       "      <td>4</td>\n",
       "      <td>23.0</td>\n",
       "      <td>31</td>\n",
       "      <td>1395000</td>\n",
       "      <td>25000</td>\n",
       "      <td>0.096774</td>\n",
       "      <td>0.0</td>\n",
       "    </tr>\n",
       "    <tr>\n",
       "      <th>2</th>\n",
       "      <td>3.0</td>\n",
       "      <td>FASHION</td>\n",
       "      <td>BIKE</td>\n",
       "      <td>2015-07-02</td>\n",
       "      <td>2022-03-14</td>\n",
       "      <td>0</td>\n",
       "      <td>59.0</td>\n",
       "      <td>192</td>\n",
       "      <td>12311000</td>\n",
       "      <td>395000</td>\n",
       "      <td>0.145833</td>\n",
       "      <td>0.0</td>\n",
       "    </tr>\n",
       "    <tr>\n",
       "      <th>3</th>\n",
       "      <td>4.0</td>\n",
       "      <td>INDIVIDUAL NEEDS</td>\n",
       "      <td>BIKE</td>\n",
       "      <td>2015-08-10</td>\n",
       "      <td>2022-02-20</td>\n",
       "      <td>99</td>\n",
       "      <td>1.0</td>\n",
       "      <td>1</td>\n",
       "      <td>64000</td>\n",
       "      <td>10000</td>\n",
       "      <td>1.000000</td>\n",
       "      <td>0.0</td>\n",
       "    </tr>\n",
       "    <tr>\n",
       "      <th>4</th>\n",
       "      <td>5.0</td>\n",
       "      <td>SPORT</td>\n",
       "      <td>BIKE</td>\n",
       "      <td>2015-08-10</td>\n",
       "      <td>2022-05-05</td>\n",
       "      <td>19</td>\n",
       "      <td>2.0</td>\n",
       "      <td>2</td>\n",
       "      <td>136000</td>\n",
       "      <td>1000</td>\n",
       "      <td>0.000000</td>\n",
       "      <td>0.0</td>\n",
       "    </tr>\n",
       "  </tbody>\n",
       "</table>\n",
       "</div>"
      ],
      "text/plain": [
       "   user_id          category favorite_service create_time  first_time  \\\n",
       "0      1.0           FASHION             BIKE  2015-06-11  2022-04-04   \n",
       "1      2.0  INDIVIDUAL NEEDS             BIKE  2015-06-23  2022-03-20   \n",
       "2      3.0           FASHION             BIKE  2015-07-02  2022-03-14   \n",
       "3      4.0  INDIVIDUAL NEEDS             BIKE  2015-08-10  2022-02-20   \n",
       "4      5.0             SPORT             BIKE  2015-08-10  2022-05-05   \n",
       "\n",
       "   recency  frequency  stoppoint       gsv  discount  discount_using  gmv  \n",
       "0        0       18.0         25   1215000     52000        0.160000  0.0  \n",
       "1        4       23.0         31   1395000     25000        0.096774  0.0  \n",
       "2        0       59.0        192  12311000    395000        0.145833  0.0  \n",
       "3       99        1.0          1     64000     10000        1.000000  0.0  \n",
       "4       19        2.0          2    136000      1000        0.000000  0.0  "
      ]
     },
     "execution_count": 60,
     "metadata": {},
     "output_type": "execute_result"
    }
   ],
   "source": [
    "df.head()"
   ]
  },
  {
   "cell_type": "code",
   "execution_count": 94,
   "id": "07cbed82",
   "metadata": {},
   "outputs": [
    {
     "data": {
      "text/plain": [
       "category\n",
       "CAKE                   2.372469e+08\n",
       "CIGARETTE              2.503090e+08\n",
       "DRINK                  1.781930e+08\n",
       "E                      2.750000e+06\n",
       "E-commerce platform    4.880000e+05\n",
       "ELECTRONICS            6.503910e+08\n",
       "Electronics            5.722000e+06\n",
       "FASHION                1.926919e+09\n",
       "FOOD                   2.663540e+09\n",
       "Fashion & Sport        8.519200e+07\n",
       "Food & Drink           8.406400e+07\n",
       "GROCERY                1.577477e+09\n",
       "HEALTH & BEAUTY        1.300829e+09\n",
       "HOUSING & LIFESTYLE    8.499694e+08\n",
       "Health & Beauty        2.841300e+07\n",
       "Home & Lifestyle       2.183200e+07\n",
       "INDIVIDUAL NEEDS       1.106317e+10\n",
       "MOTHER & BABY          3.082690e+08\n",
       "Mother & Baby          2.316526e+07\n",
       "OTHER                  2.090842e+09\n",
       "Other                  1.193100e+07\n",
       "Others                 8.377000e+06\n",
       "RESTAURANT             1.791610e+08\n",
       "SPORT                  8.154598e+07\n",
       "TRANSPORTATION         1.011060e+08\n",
       "Transportation         4.633000e+06\n",
       "Name: gsv, dtype: float64"
      ]
     },
     "execution_count": 94,
     "metadata": {},
     "output_type": "execute_result"
    }
   ],
   "source": [
    "# Question 3a: Which category make the highest gross shipping value (gsv)?\n",
    "gsv_category = df.groupby('category').sum()['gsv']\n",
    "gsv_category"
   ]
  },
  {
   "cell_type": "code",
   "execution_count": 107,
   "id": "5fcd90a5",
   "metadata": {},
   "outputs": [
    {
     "data": {
      "text/plain": [
       "11063167432.0"
      ]
     },
     "execution_count": 107,
     "metadata": {},
     "output_type": "execute_result"
    }
   ],
   "source": [
    "gsv_category.max()"
   ]
  },
  {
   "cell_type": "code",
   "execution_count": 111,
   "id": "e9e4b41d",
   "metadata": {},
   "outputs": [
    {
     "data": {
      "text/plain": [
       "array([ 0,  1,  2,  3,  4,  5,  6,  7,  8,  9, 10, 11, 12, 13, 14, 15, 16,\n",
       "       17, 18, 19, 20, 21, 22, 23, 24, 25])"
      ]
     },
     "execution_count": 111,
     "metadata": {},
     "output_type": "execute_result"
    }
   ],
   "source": [
    "category = set(df['category']) \n",
    "ypos = np.arange(len(category))\n",
    "ypos"
   ]
  },
  {
   "cell_type": "code",
   "execution_count": 119,
   "id": "0048a77b",
   "metadata": {
    "scrolled": false
   },
   "outputs": [
    {
     "data": {
      "image/png": "[encoded data removed]",
      "text/plain": [
       "<Figure size 432x288 with 1 Axes>"
      ]
     },
     "metadata": {
      "needs_background": "light"
     },
     "output_type": "display_data"
    }
   ],
   "source": [
    "plt.xticks(ypos,category)\n",
    "plt.bar(x=ypos, height=gsv_category)\n",
    "plt.title('Gross Shipping Revenue by Category')\n",
    "plt.ylabel('GSV in Billion (VND)')\n",
    "plt.show()"
   ]
  },
  {
   "cell_type": "code",
   "execution_count": null,
   "id": "33b9eeca",
   "metadata": {},
   "outputs": [],
   "source": [
    "# Conclusion: Individual Needs is the category with the highest gross shipping revenue"
   ]
  },
  {
   "cell_type": "code",
   "execution_count": 150,
   "id": "0c58d3a3",
   "metadata": {},
   "outputs": [
    {
     "data": {
      "text/plain": [
       "BIKE           51.311780\n",
       "POOL           15.500835\n",
       "SAMEDAY        11.431807\n",
       "GOSHOP         10.958936\n",
       "TRICYCLE        4.190456\n",
       "EXPRESS         2.357351\n",
       "VAN-500         1.700001\n",
       "INTERCT-GHN     0.932899\n",
       "TRUCK-500       0.757762\n",
       "TRUCK-1000      0.475206\n",
       "VAN-1000        0.270879\n",
       "TRUCK-2000      0.112088\n",
       "Name: favorite_service, dtype: float64"
      ]
     },
     "execution_count": 150,
     "metadata": {},
     "output_type": "execute_result"
    }
   ],
   "source": [
    "# Question 3b: Customer Characteristics Analysis\n",
    "# By Favorite Service\n",
    "service_name = set(df['favorite_service'])\n",
    "service_freq = df['favorite_service'].value_counts()\n",
    "percentage = (service_freq/service_freq.sum())*100\n",
    "percentage"
   ]
  },
  {
   "cell_type": "code",
   "execution_count": 176,
   "id": "7541daa9",
   "metadata": {
    "scrolled": true
   },
   "outputs": [
    {
     "data": {
      "image/png": "[encoded data removed]",
      "text/plain": [
       "<Figure size 432x288 with 1 Axes>"
      ]
     },
     "metadata": {},
     "output_type": "display_data"
    }
   ],
   "source": [
    "plt.pie(percentage, startangle=90)\n",
    "plt.title('Favorite service by Customers')\n",
    "plt.show()"
   ]
  },
  {
   "cell_type": "code",
   "execution_count": null,
   "id": "8bd6d786",
   "metadata": {},
   "outputs": [],
   "source": [
    "# BIKE is the most preferred service chosen by customers, accounting for over 50% of total customers' choices."
   ]
  },
  {
   "cell_type": "code",
   "execution_count": 154,
   "id": "fc649baf",
   "metadata": {},
   "outputs": [
    {
     "data": {
      "text/html": [
       "<div>\n",
       "<style scoped>\n",
       "    .dataframe tbody tr th:only-of-type {\n",
       "        vertical-align: middle;\n",
       "    }\n",
       "\n",
       "    .dataframe tbody tr th {\n",
       "        vertical-align: top;\n",
       "    }\n",
       "\n",
       "    .dataframe thead th {\n",
       "        text-align: right;\n",
       "    }\n",
       "</style>\n",
       "<table border=\"1\" class=\"dataframe\">\n",
       "  <thead>\n",
       "    <tr style=\"text-align: right;\">\n",
       "      <th></th>\n",
       "      <th>user_id</th>\n",
       "      <th>category</th>\n",
       "      <th>favorite_service</th>\n",
       "      <th>create_time</th>\n",
       "      <th>first_time</th>\n",
       "      <th>recency</th>\n",
       "      <th>frequency</th>\n",
       "      <th>stoppoint</th>\n",
       "      <th>gsv</th>\n",
       "      <th>discount</th>\n",
       "      <th>discount_using</th>\n",
       "      <th>gmv</th>\n",
       "      <th>creat_year</th>\n",
       "      <th>create_year</th>\n",
       "    </tr>\n",
       "  </thead>\n",
       "  <tbody>\n",
       "    <tr>\n",
       "      <th>0</th>\n",
       "      <td>1.0</td>\n",
       "      <td>FASHION</td>\n",
       "      <td>BIKE</td>\n",
       "      <td>2015-06-11</td>\n",
       "      <td>2022-04-04</td>\n",
       "      <td>0.0</td>\n",
       "      <td>18.0</td>\n",
       "      <td>25.0</td>\n",
       "      <td>1215000.0</td>\n",
       "      <td>52000.0</td>\n",
       "      <td>0.160000</td>\n",
       "      <td>0.0</td>\n",
       "      <td>2015</td>\n",
       "      <td>2015</td>\n",
       "    </tr>\n",
       "    <tr>\n",
       "      <th>1</th>\n",
       "      <td>2.0</td>\n",
       "      <td>INDIVIDUAL NEEDS</td>\n",
       "      <td>BIKE</td>\n",
       "      <td>2015-06-23</td>\n",
       "      <td>2022-03-20</td>\n",
       "      <td>4.0</td>\n",
       "      <td>23.0</td>\n",
       "      <td>31.0</td>\n",
       "      <td>1395000.0</td>\n",
       "      <td>25000.0</td>\n",
       "      <td>0.096774</td>\n",
       "      <td>0.0</td>\n",
       "      <td>2015</td>\n",
       "      <td>2015</td>\n",
       "    </tr>\n",
       "    <tr>\n",
       "      <th>2</th>\n",
       "      <td>3.0</td>\n",
       "      <td>FASHION</td>\n",
       "      <td>BIKE</td>\n",
       "      <td>2015-07-02</td>\n",
       "      <td>2022-03-14</td>\n",
       "      <td>0.0</td>\n",
       "      <td>59.0</td>\n",
       "      <td>192.0</td>\n",
       "      <td>12311000.0</td>\n",
       "      <td>395000.0</td>\n",
       "      <td>0.145833</td>\n",
       "      <td>0.0</td>\n",
       "      <td>2015</td>\n",
       "      <td>2015</td>\n",
       "    </tr>\n",
       "    <tr>\n",
       "      <th>3</th>\n",
       "      <td>4.0</td>\n",
       "      <td>INDIVIDUAL NEEDS</td>\n",
       "      <td>BIKE</td>\n",
       "      <td>2015-08-10</td>\n",
       "      <td>2022-02-20</td>\n",
       "      <td>99.0</td>\n",
       "      <td>1.0</td>\n",
       "      <td>1.0</td>\n",
       "      <td>64000.0</td>\n",
       "      <td>10000.0</td>\n",
       "      <td>1.000000</td>\n",
       "      <td>0.0</td>\n",
       "      <td>2015</td>\n",
       "      <td>2015</td>\n",
       "    </tr>\n",
       "    <tr>\n",
       "      <th>4</th>\n",
       "      <td>5.0</td>\n",
       "      <td>SPORT</td>\n",
       "      <td>BIKE</td>\n",
       "      <td>2015-08-10</td>\n",
       "      <td>2022-05-05</td>\n",
       "      <td>19.0</td>\n",
       "      <td>2.0</td>\n",
       "      <td>2.0</td>\n",
       "      <td>136000.0</td>\n",
       "      <td>1000.0</td>\n",
       "      <td>0.000000</td>\n",
       "      <td>0.0</td>\n",
       "      <td>2015</td>\n",
       "      <td>2015</td>\n",
       "    </tr>\n",
       "  </tbody>\n",
       "</table>\n",
       "</div>"
      ],
      "text/plain": [
       "   user_id          category favorite_service create_time  first_time  \\\n",
       "0      1.0           FASHION             BIKE  2015-06-11  2022-04-04   \n",
       "1      2.0  INDIVIDUAL NEEDS             BIKE  2015-06-23  2022-03-20   \n",
       "2      3.0           FASHION             BIKE  2015-07-02  2022-03-14   \n",
       "3      4.0  INDIVIDUAL NEEDS             BIKE  2015-08-10  2022-02-20   \n",
       "4      5.0             SPORT             BIKE  2015-08-10  2022-05-05   \n",
       "\n",
       "   recency  frequency  stoppoint         gsv  discount  discount_using  gmv  \\\n",
       "0      0.0       18.0       25.0   1215000.0   52000.0        0.160000  0.0   \n",
       "1      4.0       23.0       31.0   1395000.0   25000.0        0.096774  0.0   \n",
       "2      0.0       59.0      192.0  12311000.0  395000.0        0.145833  0.0   \n",
       "3     99.0        1.0        1.0     64000.0   10000.0        1.000000  0.0   \n",
       "4     19.0        2.0        2.0    136000.0    1000.0        0.000000  0.0   \n",
       "\n",
       "  creat_year create_year  \n",
       "0       2015        2015  \n",
       "1       2015        2015  \n",
       "2       2015        2015  \n",
       "3       2015        2015  \n",
       "4       2015        2015  "
      ]
     },
     "execution_count": 154,
     "metadata": {},
     "output_type": "execute_result"
    }
   ],
   "source": [
    "# By Create Time\n",
    "# Add Create Year column\n",
    "df['create_year'] = df['create_time'].str[0:4]\n",
    "df.head()"
   ]
  },
  {
   "cell_type": "code",
   "execution_count": 171,
   "id": "810a0a30",
   "metadata": {},
   "outputs": [
    {
     "data": {
      "text/plain": [
       "2022    61575\n",
       "2021    15880\n",
       "2020     4154\n",
       "2018     2698\n",
       "2019     1012\n",
       "2017      219\n",
       "2016       89\n",
       "2015       20\n",
       "Name: create_year, dtype: int64"
      ]
     },
     "execution_count": 171,
     "metadata": {},
     "output_type": "execute_result"
    }
   ],
   "source": [
    "new_user = df['create_year'].value_counts()\n",
    "new_user"
   ]
  },
  {
   "cell_type": "code",
   "execution_count": 180,
   "id": "4ce54773",
   "metadata": {},
   "outputs": [
    {
     "data": {
      "image/png": "[encoded data removed]",
      "text/plain": [
       "<Figure size 432x288 with 1 Axes>"
      ]
     },
     "metadata": {
      "needs_background": "light"
     },
     "output_type": "display_data"
    }
   ],
   "source": [
    "new_user_by_year = np.array([20,89,219,2698,1012,4154,15880,61575])\n",
    "year = range(2015,2023)\n",
    "plt.plot(year,new_user_by_year)\n",
    "plt.title('New users by Year')\n",
    "plt.ylabel('Users')\n",
    "plt.show()"
   ]
  },
  {
   "cell_type": "code",
   "execution_count": null,
   "id": "5eef68f2",
   "metadata": {},
   "outputs": [],
   "source": [
    "# Ahamove's number of new users rose gradually in the period from 2015 to 2020 \n",
    "# increased dramatically from 2021 up to present time \n",
    "# Ahamove has a particularly strong growth in resspect of new customers in the past few years"
   ]
  }
 ],
 "metadata": {
  "kernelspec": {
   "display_name": "Python 3 (ipykernel)",
   "language": "python",
   "name": "python3"
  },
  "language_info": {
   "codemirror_mode": {
    "name": "ipython",
    "version": 3
   },
   "file_extension": ".py",
   "mimetype": "text/x-python",
   "name": "python",
   "nbconvert_exporter": "python",
   "pygments_lexer": "ipython3",
   "version": "3.9.12"
  }
 },
 "nbformat": 4,
 "nbformat_minor": 5
}
